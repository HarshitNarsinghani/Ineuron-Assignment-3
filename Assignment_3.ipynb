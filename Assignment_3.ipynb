{
  "nbformat": 4,
  "nbformat_minor": 0,
  "metadata": {
    "colab": {
      "name": "Assignment 3",
      "provenance": []
    },
    "kernelspec": {
      "name": "python3",
      "display_name": "Python 3"
    }
  },
  "cells": [
    {
      "cell_type": "markdown",
      "metadata": {
        "id": "UEya0AQOJbMM"
      },
      "source": [
        "1.1 Write a Python Program to implement your own myreduce() function which works exactly  like Python's built-in function reduce() "
      ]
    },
    {
      "cell_type": "code",
      "metadata": {
        "colab": {
          "base_uri": "https://localhost:8080/"
        },
        "id": "Lvh-NzN4JaIo",
        "outputId": "e400c901-7173-4169-bd90-3d096d5a8065"
      },
      "source": [
        "def myreduce(add,list1):\r\n",
        "  return a\r\n",
        "def add(a,b):\r\n",
        "  return a+b\r\n",
        "list1=[10,20,30,40,50]\r\n",
        "a=list1[0]\r\n",
        "for  i in range(1,len(list1)):\r\n",
        "  b=list1[i]\r\n",
        "  a=add(a,b)\r\n",
        "print(myreduce(add,list1))"
      ],
      "execution_count": null,
      "outputs": [
        {
          "output_type": "stream",
          "text": [
            "150\n"
          ],
          "name": "stdout"
        }
      ]
    },
    {
      "cell_type": "markdown",
      "metadata": {
        "id": "L-GUfKsdLNCC"
      },
      "source": [
        "1.2  Write a Python program to implement your own myfilter() function which works exactly  like Python's built-in function filter() "
      ]
    },
    {
      "cell_type": "code",
      "metadata": {
        "colab": {
          "base_uri": "https://localhost:8080/"
        },
        "id": "5Re_DmKDLRJu",
        "outputId": "2e1455d2-2192-4600-d9fa-879c129c7ef5"
      },
      "source": [
        "def myfilter(is_even,list2):\r\n",
        "  return is_even(a)\r\n",
        "list2=[2,3,4,5,6,7,8,9,10,11,12,13,14]\r\n",
        "list3=[]\r\n",
        "def is_even(a):\r\n",
        "  for i in list2:\r\n",
        "    if i%2==0:\r\n",
        "      list3.append(i)\r\n",
        "  print(\"The list3 is:\",list3)\r\n",
        "myfilter(is_even,list2)\r\n",
        "  "
      ],
      "execution_count": null,
      "outputs": [
        {
          "output_type": "stream",
          "text": [
            "The list3 is: [2, 4, 6, 8, 10, 12, 14]\n"
          ],
          "name": "stdout"
        }
      ]
    },
    {
      "cell_type": "markdown",
      "metadata": {
        "id": "IXRVH020Mz53"
      },
      "source": [
        "2. Implement List comprehensions to produce the following lists.  \r\n",
        "Write List comprehensions to produce the following Lists \r\n",
        "['A', 'C', 'A', 'D', 'G', 'I', ’L’, ‘ D’] \r\n",
        "['x', 'xx', 'xxx', 'xxxx', 'y', 'yy', 'yyy', 'yyyy', 'z', 'zz', 'zzz', 'zzzz']  \r\n",
        "['x', 'y', 'z', 'xx', 'yy', 'zz', 'xxx', 'yyy', 'zzz', 'xxxx', 'yyyy', 'zzzz']  \r\n",
        "[[2], [3], [4], [3], [4], [5], [4], [5], [6]] [[2, 3, 4, 5], [3, 4, 5, 6],  \r\n",
        "[4, 5, 6, 7], [5, 6, 7, 8]] \r\n",
        "[(1, 1), (2, 1), (3, 1), (1, 2), (2, 2), (3, 2), (1, 3), (2, 3), (3, 3)]\r\n"
      ]
    },
    {
      "cell_type": "code",
      "metadata": {
        "colab": {
          "base_uri": "https://localhost:8080/"
        },
        "id": "uVDRE5kHNiPI",
        "outputId": "7f2c389c-dc8d-4805-ae27-f33d35528453"
      },
      "source": [
        "word=\"ACADGILD\"\r\n",
        "alphabet_list=[alphabet for alphabet in word]\r\n",
        "print(str(alphabet_list))"
      ],
      "execution_count": null,
      "outputs": [
        {
          "output_type": "stream",
          "text": [
            "['A', 'C', 'A', 'D', 'G', 'I', 'L', 'D']\n"
          ],
          "name": "stdout"
        }
      ]
    },
    {
      "cell_type": "code",
      "metadata": {
        "colab": {
          "base_uri": "https://localhost:8080/"
        },
        "id": "iMVsVu0eTXgj",
        "outputId": "7f21e6b6-d87f-40ce-9486-e0ddd5b4e88e"
      },
      "source": [
        "letters=['x','y','z']\r\n",
        "pattern=[]\r\n",
        "[pattern.append(letters[i]*j) for i in range (len(letters)) for j in range(1,5)]\r\n",
        "print(pattern)\r\n",
        "\r\n",
        "                             "
      ],
      "execution_count": null,
      "outputs": [
        {
          "output_type": "stream",
          "text": [
            "['x', 'xx', 'xxx', 'xxxx', 'y', 'yy', 'yyy', 'yyyy', 'z', 'zz', 'zzz', 'zzzz']\n"
          ],
          "name": "stdout"
        }
      ]
    },
    {
      "cell_type": "code",
      "metadata": {
        "colab": {
          "base_uri": "https://localhost:8080/"
        },
        "id": "hxCW9Ha1WUz7",
        "outputId": "bf3df472-c7e3-4d94-b976-5b1850546568"
      },
      "source": [
        "input_list = ['x','y','z']\r\n",
        "result = [ item*num for num in range(1,5) for item in input_list  ]\r\n",
        "print(\"['x','y','z'] => \" +   str(result))"
      ],
      "execution_count": null,
      "outputs": [
        {
          "output_type": "stream",
          "text": [
            "['x','y','z'] => ['x', 'y', 'z', 'xx', 'yy', 'zz', 'xxx', 'yyy', 'zzz', 'xxxx', 'yyyy', 'zzzz']\n"
          ],
          "name": "stdout"
        }
      ]
    },
    {
      "cell_type": "code",
      "metadata": {
        "colab": {
          "base_uri": "https://localhost:8080/"
        },
        "id": "OdK8_TmXY0m5",
        "outputId": "1a9c347d-4b21-455b-fc76-11fefb52ba52"
      },
      "source": [
        "input_list = [2,3,4]\r\n",
        "result = [ [item+num] for item in input_list for num in range(0,3)]\r\n",
        "print(\"[2,3,4] =>\" +  str(result))"
      ],
      "execution_count": null,
      "outputs": [
        {
          "output_type": "stream",
          "text": [
            "[2,3,4] =>[[2], [3], [4], [3], [4], [5], [4], [5], [6]]\n"
          ],
          "name": "stdout"
        }
      ]
    },
    {
      "cell_type": "code",
      "metadata": {
        "colab": {
          "base_uri": "https://localhost:8080/"
        },
        "id": "ezTASXy2ZAwo",
        "outputId": "b3ebd8cd-3320-4605-da09-77a7e73819cf"
      },
      "source": [
        "input_list = [2,3,4,5]\r\n",
        "result = [ [item+num for item in input_list] for num in range(0,4)  ]\r\n",
        "print(\"[2,3,4,5] =>\" +  str(result))"
      ],
      "execution_count": null,
      "outputs": [
        {
          "output_type": "stream",
          "text": [
            "[2,3,4,5] =>[[2, 3, 4, 5], [3, 4, 5, 6], [4, 5, 6, 7], [5, 6, 7, 8]]\n"
          ],
          "name": "stdout"
        }
      ]
    },
    {
      "cell_type": "code",
      "metadata": {
        "colab": {
          "base_uri": "https://localhost:8080/"
        },
        "id": "EeeXY3rCZCb-",
        "outputId": "556e1fed-fb9d-4df1-c7b8-d1548e35116c"
      },
      "source": [
        "input_list=[1,2,3]\r\n",
        "result = [ (b,a) for a in input_list for b in input_list]\r\n",
        "print(\"[1,2,3] =>\" +  str(result))"
      ],
      "execution_count": null,
      "outputs": [
        {
          "output_type": "stream",
          "text": [
            "[1,2,3] =>[(1, 1), (2, 1), (3, 1), (1, 2), (2, 2), (3, 2), (1, 3), (2, 3), (3, 3)]\n"
          ],
          "name": "stdout"
        }
      ]
    }
  ]
}